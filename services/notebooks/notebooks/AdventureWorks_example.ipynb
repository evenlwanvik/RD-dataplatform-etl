{
 "cells": [
  {
   "cell_type": "code",
   "execution_count": null,
   "metadata": {},
   "outputs": [],
   "source": [
    "import pymssql\n",
    "import pandas as pd"
   ]
  },
  {
   "cell_type": "code",
   "execution_count": null,
   "metadata": {},
   "outputs": [],
   "source": [
    "conn_id = pymssql.connect(server=\"mssql\",\n",
    "                    user=\"SA\",\n",
    "                    password=\"Valhalla06978!\",\n",
    "                    database=\"AdventureWorks2019\") "
   ]
  },
  {
   "cell_type": "code",
   "execution_count": null,
   "metadata": {},
   "outputs": [],
   "source": [
    "detail = pd.read_sql(\"SELECT TOP 1000 * FROM Sales.SalesOrderDetail\", conn_id)\n",
    "header = pd.read_sql(\"SELECT TOP 1000 * FROM Sales.SalesOrderHeader\", conn_id)"
   ]
  },
  {
   "cell_type": "code",
   "execution_count": null,
   "metadata": {},
   "outputs": [],
   "source": [
    "headers = [\"SalesOrderID\", \"OrderDate\", \"OrderQty\", \"UnitPrice\"]\n",
    "sales = [detail[headers[0]], header[headers[1]], detail[headers[2]], detail[headers[3]]]\n",
    "sales = pd.concat(sales, axis=1, keys=headers)"
   ]
  },
  {
   "cell_type": "code",
   "execution_count": null,
   "metadata": {},
   "outputs": [],
   "source": [
    "results = pd.DataFrame(header[\"OrderDate\"]).drop_duplicates()\n",
    "results = results.reset_index(drop=True)\n",
    "results[\"Result\"] = 0\n",
    "# Get sales per day\n",
    "for i, sale_date in enumerate(sales[\"OrderDate\"]):\n",
    "    res_idx = results.index[results[\"OrderDate\"] == sale_date]\n",
    "    results[\"Result\"][res_idx] += sales[\"OrderQty\"][i] * sales[\"UnitPrice\"][i]"
   ]
  },
  {
   "cell_type": "code",
   "execution_count": null,
   "metadata": {},
   "outputs": [],
   "source": [
    "results.plot(x=\"OrderDate\", y=\"Result\")"
   ]
  }
 ],
 "metadata": {
  "language_info": {
   "name": "python"
  },
  "orig_nbformat": 4
 },
 "nbformat": 4,
 "nbformat_minor": 2
}
