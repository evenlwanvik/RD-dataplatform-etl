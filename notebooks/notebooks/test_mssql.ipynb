{
 "cells": [
  {
   "cell_type": "code",
   "execution_count": null,
   "metadata": {},
   "outputs": [],
   "source": [
    "import pymssql\n",
    "import pandas as pd"
   ]
  },
  {
   "cell_type": "code",
   "execution_count": null,
   "metadata": {},
   "outputs": [],
   "source": [
    "conn_id = pymssql.connect(server=\"172.17.0.1\",\n",
    "                    user=\"SA\",\n",
    "                    password=\"Valhalla06978!\",\n",
    "                    database=\"AdventureWorksLT2019\",\n",
    "                    port=\"1433\") "
   ]
  },
  {
   "cell_type": "code",
   "execution_count": null,
   "metadata": {},
   "outputs": [],
   "source": [
    "df = pd.read_sql(\"SELECT * FROM information_schema.tables\", conn_id)"
   ]
  },
  {
   "cell_type": "code",
   "execution_count": null,
   "metadata": {},
   "outputs": [],
   "source": [
    "pd.read_sql(\"SELECT * FROM information_schema.tables\", conn_id)"
   ]
  },
  {
   "cell_type": "code",
   "execution_count": null,
   "metadata": {},
   "outputs": [],
   "source": [
    "detail = pd.read_sql(\"SELECT * FROM SalesLT.SalesOrderDetail;\", conn_id)\n",
    "header = pd.read_sql(\"SELECT * FROM SalesLT.SalesOrderHeader;\", conn_id)\n",
    "product = pd.read_sql(\"SELECT * FROM SalesLT.Product;\", conn_id)"
   ]
  },
  {
   "cell_type": "code",
   "execution_count": null,
   "metadata": {},
   "outputs": [],
   "source": [
    "sales_res = product[[\"ProductID\"]]\n",
    "sales_res[\"Result\"] = 0\n",
    "for i, sale in detail.iterrows():\n",
    "    # Get the sales_res dataframe index and production ID of the sale\n",
    "    prodId_idx = sales_res.index[sales_res['ProductID']==sale[\"ProductID\"]]\n",
    "    prodId = sales_res[\"ProductID\"][idx]\n",
    "    \n",
    "    sale_sum = sale[\"OrderQty\"]*sale[\"UnitPrice\"]\n",
    "\n",
    "    sales_res[\"Result\"][prodId_idx] = sales_res[\"Result\"][prodId_idx] + sale_sum\n",
    "    print(sales_res[\"Result\"][prodId_idx])   "
   ]
  },
  {
   "cell_type": "code",
   "execution_count": null,
   "metadata": {},
   "outputs": [],
   "source": [
    "sales_res.plot.bar(x=\"ProductID\", y=\"Result\")"
   ]
  }
 ],
 "metadata": {
  "language_info": {
   "name": "python"
  },
  "orig_nbformat": 4
 },
 "nbformat": 4,
 "nbformat_minor": 2
}
